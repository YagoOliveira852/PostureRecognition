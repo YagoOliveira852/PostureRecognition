{
 "cells": [
  {
   "cell_type": "code",
   "execution_count": null,
   "metadata": {},
   "outputs": [],
   "source": [
    "import cv2"
   ]
  },
  {
   "cell_type": "code",
   "execution_count": null,
   "metadata": {},
   "outputs": [],
   "source": [
    "# Inicializando a Webcam\n",
    "webcam = cv2.VideoCapture(0)\n",
    "\n",
    "\n",
    "# Leitura dos frames\n",
    "frame_count = 0\n",
    "while True:\n",
    "    frame_read_sucess, frame = webcam.read()\n",
    "\n",
    "    if not frame_read_sucess:\n",
    "        break\n",
    "\n",
    "    cv2.imshow(\"Webcam video\", frame)\n",
    "\n",
    "    key = cv2.waitKey(1) & 0xFF\n",
    "\n",
    "    if key == ord(\"q\"):\n",
    "        break\n",
    "\n",
    "    if key == ord(\"c\"):\n",
    "        cv2.imwrite(f\"frame_{frame_count}.png\", frame)\n",
    "        frame_count += 1\n",
    "\n",
    "cv2.destroyAllWindows()"
   ]
  }
 ],
 "metadata": {
  "kernelspec": {
   "display_name": "Python 3",
   "language": "python",
   "name": "python3"
  },
  "language_info": {
   "codemirror_mode": {
    "name": "ipython",
    "version": 3
   },
   "file_extension": ".py",
   "mimetype": "text/x-python",
   "name": "python",
   "nbconvert_exporter": "python",
   "pygments_lexer": "ipython3",
   "version": "3.10.5"
  },
  "orig_nbformat": 4
 },
 "nbformat": 4,
 "nbformat_minor": 2
}
