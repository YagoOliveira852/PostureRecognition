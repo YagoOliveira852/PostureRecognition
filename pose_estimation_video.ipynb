{
 "cells": [
  {
   "cell_type": "code",
   "execution_count": 1,
   "metadata": {},
   "outputs": [],
   "source": [
    "import cv2\n",
    "import time\n",
    "import pose_module as pm"
   ]
  },
  {
   "cell_type": "code",
   "execution_count": 2,
   "metadata": {},
   "outputs": [],
   "source": [
    "capture = cv2.VideoCapture('video.mp4')\n",
    "writer = cv2.VideoWriter_fourcc(*'XVID')\n",
    "detector = pm.PoseDetector()\n",
    "\n",
    "output_fps = 30\n",
    "frame_size = int(capture.get(cv2.CAP_PROP_FRAME_WIDTH)), int(capture.get(cv2.CAP_PROP_FRAME_HEIGHT))\n",
    "output = cv2.VideoWriter('video_output.mp4', writer, output_fps, frame_size)\n",
    "\n",
    "frame_count = 0\n",
    "previous_time = 0\n",
    "while True:\n",
    "    frame_read_sucess, frame = capture.read()\n",
    "\n",
    "    if not frame_read_sucess:\n",
    "        break\n",
    "\n",
    "    frame = detector.get_pose(frame)\n",
    "    landmarks = detector.get_position(frame)\n",
    "\n",
    "    current_time = time.time()\n",
    "    fps = 1 / (current_time - previous_time)\n",
    "    previous_time = current_time\n",
    "\n",
    "    cv2.imshow(\"Video\", frame)\n",
    "\n",
    "    output.write(frame)\n",
    "\n",
    "    key = cv2.waitKey(1) & 0xFF\n",
    "\n",
    "    if key == ord(\"q\"):\n",
    "        capture.release()\n",
    "        output.release()\n",
    "        cv2.destroyAllWindows()\n",
    "        break\n",
    "\n",
    "    if key == ord(\"c\"):\n",
    "        cv2.imwrite(f\"frame_{frame_count}.png\", frame)\n",
    "        frame_count += 1\n",
    "\n",
    "capture.release()\n",
    "output.release()\n",
    "cv2.destroyAllWindows()"
   ]
  }
 ],
 "metadata": {
  "kernelspec": {
   "display_name": "Python 3",
   "language": "python",
   "name": "python3"
  },
  "language_info": {
   "codemirror_mode": {
    "name": "ipython",
    "version": 3
   },
   "file_extension": ".py",
   "mimetype": "text/x-python",
   "name": "python",
   "nbconvert_exporter": "python",
   "pygments_lexer": "ipython3",
   "version": "3.10.5"
  },
  "orig_nbformat": 4
 },
 "nbformat": 4,
 "nbformat_minor": 2
}
