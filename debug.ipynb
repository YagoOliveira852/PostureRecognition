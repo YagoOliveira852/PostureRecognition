{
 "cells": [
  {
   "cell_type": "code",
   "execution_count": 1,
   "metadata": {},
   "outputs": [],
   "source": [
    "from utils import get_angle\n",
    "marks = [[(305, 234, 1.0145667791366577, 0)], [(191, 363, 0.7859399318695068, 1)], [(201, 373, 0.8623086214065552, 2)], [(303, 567, 0.9791483283042908, 3)], [(470, 541, 1.0466033220291138, 4)], [(180, 351, 0.6807049512863159, 5)], [(291, 530, 0.23234817385673523, 6)], [(460, 556, 0.2110515534877777, 7)], [(248, 668, 0.7607256770133972, 8)], [(534, 669, 0.9985352158546448, 9)], [(537, 970, 0.9268811345100403, 10)], [(245, 647, 0.5039076805114746, 11)], [(494, 628, 0.1877688765525818, 12)], [], [(293, 203, 0.9912337064743042, 14)], [], [(219, 204, 0.9412510991096497, 16)], []]"
   ]
  },
  {
   "cell_type": "code",
   "execution_count": 7,
   "metadata": {},
   "outputs": [
    {
     "name": "stdout",
     "output_type": "stream",
     "text": [
      "(191, 363)\n",
      "(219, 204)\n",
      "\n",
      "-159\n",
      "28\n",
      "80.01257842498646\n",
      "\n",
      "159\n",
      "-28\n",
      "80.01257842498646\n",
      "\n",
      "-159\n",
      "-28\n",
      "80.01257842498646\n"
     ]
    }
   ],
   "source": [
    "print(marks[1][0][0:2])\n",
    "print(marks[16][0][0:2])\n",
    "print()\n",
    "\n",
    "print(get_angle(marks[1][0][0:2], marks[16][0][0:2]))\n",
    "print()\n",
    "print(get_angle(marks[16][0][0:2], marks[1][0][0:2]))\n",
    "print()\n",
    "print(get_angle(marks[1][0][0:2], (marks[1][0][0] - 28, marks[16][0][1])))"
   ]
  },
  {
   "cell_type": "code",
   "execution_count": 8,
   "metadata": {},
   "outputs": [
    {
     "name": "stdout",
     "output_type": "stream",
     "text": [
      "(191, 363)\n",
      "(248, 668)\n",
      "(245, 647)\n",
      "(246.5, 657.5)\n",
      "\n",
      "294.5\n",
      "55.5\n",
      "79.32749427090157\n",
      "\n",
      "-294.5\n",
      "-55.5\n",
      "79.32749427090157\n",
      "\n",
      "294.5\n",
      "-55.5\n",
      "79.32749427090157\n"
     ]
    }
   ],
   "source": [
    "print(marks[1][0][0:2])\n",
    "print(marks[8][0][0:2])\n",
    "print(marks[11][0][0:2])\n",
    "k = tuple((left_coordinate + right_coordinate) / 2 for left_coordinate, right_coordinate in zip(marks[11][0][0:2], marks[8][0][0:2]))\n",
    "print(k)\n",
    "print()\n",
    "\n",
    "print(get_angle(marks[1][0][0:2], k))\n",
    "print()\n",
    "print(get_angle(k, marks[1][0][0:2]))\n",
    "print()\n",
    "print(get_angle(marks[1][0][0:2], (marks[1][0][0] - 55.5, k[1])))"
   ]
  }
 ],
 "metadata": {
  "kernelspec": {
   "display_name": "Python 3",
   "language": "python",
   "name": "python3"
  },
  "language_info": {
   "codemirror_mode": {
    "name": "ipython",
    "version": 3
   },
   "file_extension": ".py",
   "mimetype": "text/x-python",
   "name": "python",
   "nbconvert_exporter": "python",
   "pygments_lexer": "ipython3",
   "version": "3.10.5"
  },
  "orig_nbformat": 4
 },
 "nbformat": 4,
 "nbformat_minor": 2
}
