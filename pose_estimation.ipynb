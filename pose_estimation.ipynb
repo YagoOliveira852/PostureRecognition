{
 "cells": [
  {
   "cell_type": "code",
   "execution_count": 1,
   "metadata": {},
   "outputs": [],
   "source": [
    "import cv2\n",
    "import time\n",
    "import pose_module as pm"
   ]
  },
  {
   "cell_type": "code",
   "execution_count": 3,
   "metadata": {},
   "outputs": [],
   "source": [
    "capture = cv2.VideoCapture(0)\n",
    "detector = pm.PoseDetector()\n",
    "\n",
    "frame_count = 0\n",
    "previous_time = 0\n",
    "while True:\n",
    "    frame_read_sucess, frame = capture.read()\n",
    "\n",
    "    if not frame_read_sucess:\n",
    "        break\n",
    "\n",
    "    frame = detector.get_pose(frame)\n",
    "    landmarks = detector.get_position(frame)\n",
    "\n",
    "    current_time = time.time()\n",
    "    fps = 1 / (current_time - previous_time)\n",
    "    previous_time = current_time\n",
    "\n",
    "    cv2.putText(frame, str(int(fps)), (70, 50), cv2.FONT_HERSHEY_PLAIN, 3, (255, 0, 0), 3)\n",
    "    cv2.imshow(\"Video\", frame)\n",
    "\n",
    "    key = cv2.waitKey(1) & 0xFF\n",
    "\n",
    "    if key == ord(\"q\"):\n",
    "        break\n",
    "\n",
    "    if key == ord(\"c\"):\n",
    "        cv2.imwrite(f\"frame_{frame_count}.png\", frame)\n",
    "        frame_count += 1\n",
    "\n",
    "cv2.destroyAllWindows()"
   ]
  }
 ],
 "metadata": {
  "kernelspec": {
   "display_name": "Python 3",
   "language": "python",
   "name": "python3"
  },
  "language_info": {
   "codemirror_mode": {
    "name": "ipython",
    "version": 3
   },
   "file_extension": ".py",
   "mimetype": "text/x-python",
   "name": "python",
   "nbconvert_exporter": "python",
   "pygments_lexer": "ipython3",
   "version": "3.10.5"
  },
  "orig_nbformat": 4
 },
 "nbformat": 4,
 "nbformat_minor": 2
}
